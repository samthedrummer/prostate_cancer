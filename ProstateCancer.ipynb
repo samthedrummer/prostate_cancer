{
 "cells": [
  {
   "cell_type": "code",
   "execution_count": 1,
   "id": "eb0b09d2-4871-4c7b-94df-8c9223f83105",
   "metadata": {},
   "outputs": [],
   "source": [
    "import pandas as pd \n",
    "import numpy as np\n",
    "from sklearn.preprocessing import StandardScaler\n",
    "from sklearn.model_selection import train_test_split as tts\n",
    "from sklearn import svm\n",
    "from sklearn.metrics import accuracy_score"
   ]
  },
  {
   "cell_type": "code",
   "execution_count": 2,
   "id": "08340024-c739-4468-ae8f-6505ee9cfb65",
   "metadata": {},
   "outputs": [],
   "source": [
    "dataset_prostate=pd.read_csv('Prostate_Cancer.csv')"
   ]
  },
  {
   "cell_type": "code",
   "execution_count": 3,
   "id": "a073c671-5595-439b-b3ad-ab395680320b",
   "metadata": {},
   "outputs": [
    {
     "data": {
      "text/html": [
       "<div>\n",
       "<style scoped>\n",
       "    .dataframe tbody tr th:only-of-type {\n",
       "        vertical-align: middle;\n",
       "    }\n",
       "\n",
       "    .dataframe tbody tr th {\n",
       "        vertical-align: top;\n",
       "    }\n",
       "\n",
       "    .dataframe thead th {\n",
       "        text-align: right;\n",
       "    }\n",
       "</style>\n",
       "<table border=\"1\" class=\"dataframe\">\n",
       "  <thead>\n",
       "    <tr style=\"text-align: right;\">\n",
       "      <th></th>\n",
       "      <th>id</th>\n",
       "      <th>diagnosis_result</th>\n",
       "      <th>radius</th>\n",
       "      <th>texture</th>\n",
       "      <th>perimeter</th>\n",
       "      <th>area</th>\n",
       "      <th>smoothness</th>\n",
       "      <th>compactness</th>\n",
       "      <th>symmetry</th>\n",
       "      <th>fractal_dimension</th>\n",
       "    </tr>\n",
       "  </thead>\n",
       "  <tbody>\n",
       "    <tr>\n",
       "      <th>0</th>\n",
       "      <td>1</td>\n",
       "      <td>M</td>\n",
       "      <td>23</td>\n",
       "      <td>12</td>\n",
       "      <td>151</td>\n",
       "      <td>954</td>\n",
       "      <td>0.143</td>\n",
       "      <td>0.278</td>\n",
       "      <td>0.242</td>\n",
       "      <td>0.079</td>\n",
       "    </tr>\n",
       "    <tr>\n",
       "      <th>1</th>\n",
       "      <td>2</td>\n",
       "      <td>B</td>\n",
       "      <td>9</td>\n",
       "      <td>13</td>\n",
       "      <td>133</td>\n",
       "      <td>1326</td>\n",
       "      <td>0.143</td>\n",
       "      <td>0.079</td>\n",
       "      <td>0.181</td>\n",
       "      <td>0.057</td>\n",
       "    </tr>\n",
       "    <tr>\n",
       "      <th>2</th>\n",
       "      <td>3</td>\n",
       "      <td>M</td>\n",
       "      <td>21</td>\n",
       "      <td>27</td>\n",
       "      <td>130</td>\n",
       "      <td>1203</td>\n",
       "      <td>0.125</td>\n",
       "      <td>0.160</td>\n",
       "      <td>0.207</td>\n",
       "      <td>0.060</td>\n",
       "    </tr>\n",
       "    <tr>\n",
       "      <th>3</th>\n",
       "      <td>4</td>\n",
       "      <td>M</td>\n",
       "      <td>14</td>\n",
       "      <td>16</td>\n",
       "      <td>78</td>\n",
       "      <td>386</td>\n",
       "      <td>0.070</td>\n",
       "      <td>0.284</td>\n",
       "      <td>0.260</td>\n",
       "      <td>0.097</td>\n",
       "    </tr>\n",
       "    <tr>\n",
       "      <th>4</th>\n",
       "      <td>5</td>\n",
       "      <td>M</td>\n",
       "      <td>9</td>\n",
       "      <td>19</td>\n",
       "      <td>135</td>\n",
       "      <td>1297</td>\n",
       "      <td>0.141</td>\n",
       "      <td>0.133</td>\n",
       "      <td>0.181</td>\n",
       "      <td>0.059</td>\n",
       "    </tr>\n",
       "  </tbody>\n",
       "</table>\n",
       "</div>"
      ],
      "text/plain": [
       "   id diagnosis_result  radius  texture  perimeter  area  smoothness  \\\n",
       "0   1                M      23       12        151   954       0.143   \n",
       "1   2                B       9       13        133  1326       0.143   \n",
       "2   3                M      21       27        130  1203       0.125   \n",
       "3   4                M      14       16         78   386       0.070   \n",
       "4   5                M       9       19        135  1297       0.141   \n",
       "\n",
       "   compactness  symmetry  fractal_dimension  \n",
       "0        0.278     0.242              0.079  \n",
       "1        0.079     0.181              0.057  \n",
       "2        0.160     0.207              0.060  \n",
       "3        0.284     0.260              0.097  \n",
       "4        0.133     0.181              0.059  "
      ]
     },
     "execution_count": 3,
     "metadata": {},
     "output_type": "execute_result"
    }
   ],
   "source": [
    "dataset_prostate.head()"
   ]
  },
  {
   "cell_type": "code",
   "execution_count": 5,
   "id": "990cf7cf-3a85-4f7a-9a11-511fd35eb4fe",
   "metadata": {},
   "outputs": [
    {
     "data": {
      "text/plain": [
       "(100, 10)"
      ]
     },
     "execution_count": 5,
     "metadata": {},
     "output_type": "execute_result"
    }
   ],
   "source": [
    "dataset_prostate.shape"
   ]
  },
  {
   "cell_type": "code",
   "execution_count": 6,
   "id": "d1107581-24ae-4cb2-bc17-b7f9ca269ac7",
   "metadata": {},
   "outputs": [
    {
     "data": {
      "text/plain": [
       "<bound method NDFrame.describe of      id diagnosis_result  radius  texture  perimeter  area  smoothness  \\\n",
       "0     1                M      23       12        151   954       0.143   \n",
       "1     2                B       9       13        133  1326       0.143   \n",
       "2     3                M      21       27        130  1203       0.125   \n",
       "3     4                M      14       16         78   386       0.070   \n",
       "4     5                M       9       19        135  1297       0.141   \n",
       "..  ...              ...     ...      ...        ...   ...         ...   \n",
       "95   96                M      23       16        132  1264       0.091   \n",
       "96   97                B      22       14         78   451       0.105   \n",
       "97   98                B      19       27         62   295       0.102   \n",
       "98   99                B      21       24         74   413       0.090   \n",
       "99  100                M      16       27         94   643       0.098   \n",
       "\n",
       "    compactness  symmetry  fractal_dimension  \n",
       "0         0.278     0.242              0.079  \n",
       "1         0.079     0.181              0.057  \n",
       "2         0.160     0.207              0.060  \n",
       "3         0.284     0.260              0.097  \n",
       "4         0.133     0.181              0.059  \n",
       "..          ...       ...                ...  \n",
       "95        0.131     0.210              0.056  \n",
       "96        0.071     0.190              0.066  \n",
       "97        0.053     0.135              0.069  \n",
       "98        0.075     0.162              0.066  \n",
       "99        0.114     0.188              0.064  \n",
       "\n",
       "[100 rows x 10 columns]>"
      ]
     },
     "execution_count": 6,
     "metadata": {},
     "output_type": "execute_result"
    }
   ],
   "source": [
    "dataset_prostate.describe"
   ]
  },
  {
   "cell_type": "code",
   "execution_count": 7,
   "id": "f35d137f-ac10-4977-815d-dfa04433af48",
   "metadata": {},
   "outputs": [
    {
     "data": {
      "text/plain": [
       "diagnosis_result\n",
       "M    62\n",
       "B    38\n",
       "Name: count, dtype: int64"
      ]
     },
     "execution_count": 7,
     "metadata": {},
     "output_type": "execute_result"
    }
   ],
   "source": [
    "dataset_prostate['diagnosis_result'].value_counts()"
   ]
  },
  {
   "cell_type": "code",
   "execution_count": 9,
   "id": "f8d7db13-ba50-4f74-b384-5c662b8fdd68",
   "metadata": {},
   "outputs": [],
   "source": [
    "X=dataset_prostate.drop(columns='diagnosis_result' , axis=1)\n",
    "Y=dataset_prostate['diagnosis_result']"
   ]
  },
  {
   "cell_type": "code",
   "execution_count": 11,
   "id": "e85c4728-a48f-47a3-bf5a-5d75cc568f84",
   "metadata": {},
   "outputs": [
    {
     "name": "stdout",
     "output_type": "stream",
     "text": [
      "     id  radius  texture  perimeter  area  smoothness  compactness  symmetry  \\\n",
      "0     1      23       12        151   954       0.143        0.278     0.242   \n",
      "1     2       9       13        133  1326       0.143        0.079     0.181   \n",
      "2     3      21       27        130  1203       0.125        0.160     0.207   \n",
      "3     4      14       16         78   386       0.070        0.284     0.260   \n",
      "4     5       9       19        135  1297       0.141        0.133     0.181   \n",
      "..  ...     ...      ...        ...   ...         ...          ...       ...   \n",
      "95   96      23       16        132  1264       0.091        0.131     0.210   \n",
      "96   97      22       14         78   451       0.105        0.071     0.190   \n",
      "97   98      19       27         62   295       0.102        0.053     0.135   \n",
      "98   99      21       24         74   413       0.090        0.075     0.162   \n",
      "99  100      16       27         94   643       0.098        0.114     0.188   \n",
      "\n",
      "    fractal_dimension  \n",
      "0               0.079  \n",
      "1               0.057  \n",
      "2               0.060  \n",
      "3               0.097  \n",
      "4               0.059  \n",
      "..                ...  \n",
      "95              0.056  \n",
      "96              0.066  \n",
      "97              0.069  \n",
      "98              0.066  \n",
      "99              0.064  \n",
      "\n",
      "[100 rows x 9 columns] 0     M\n",
      "1     B\n",
      "2     M\n",
      "3     M\n",
      "4     M\n",
      "     ..\n",
      "95    M\n",
      "96    B\n",
      "97    B\n",
      "98    B\n",
      "99    M\n",
      "Name: diagnosis_result, Length: 100, dtype: object\n"
     ]
    }
   ],
   "source": [
    "print(X, Y)"
   ]
  },
  {
   "cell_type": "code",
   "execution_count": 12,
   "id": "e469b53d-0f99-4a33-9810-783db2d81a1d",
   "metadata": {},
   "outputs": [],
   "source": [
    "scaler= StandardScaler()"
   ]
  },
  {
   "cell_type": "code",
   "execution_count": 14,
   "id": "b76f1d0e-845e-4f77-a45d-210980748365",
   "metadata": {},
   "outputs": [],
   "source": [
    "standardized_data=scaler.fit_transform(X)"
   ]
  },
  {
   "cell_type": "code",
   "execution_count": 15,
   "id": "9dd9f692-bf84-43c0-b3c9-6209bd9eab95",
   "metadata": {},
   "outputs": [
    {
     "name": "stdout",
     "output_type": "stream",
     "text": [
      "[[-1.71481604e+00  1.26683005e+00 -1.20574648e+00  2.30161118e+00\n",
      "   7.89416627e-01  2.76420965e+00  2.48697022e+00  1.59415115e+00\n",
      "   1.76446414e+00]\n",
      " [-1.68017329e+00 -1.61701072e+00 -1.01220772e+00  1.53752042e+00\n",
      "   1.95882960e+00  2.76420965e+00 -7.84061332e-01 -3.97313527e-01\n",
      "  -9.48199109e-01]\n",
      " [-1.64553055e+00  8.54852801e-01  1.69733493e+00  1.41017196e+00\n",
      "   1.57216886e+00  1.52865530e+00  5.47363571e-01  4.51507484e-01\n",
      "  -5.78290484e-01]\n",
      " [-1.61088780e+00 -5.87067586e-01 -4.31591436e-01 -7.97201366e-01\n",
      "  -9.96138662e-01 -2.24664966e+00  2.58559429e+00  2.18179647e+00\n",
      "   3.98391589e+00]\n",
      " [-1.57624505e+00 -1.61701072e+00  1.49024846e-01  1.62241939e+00\n",
      "   1.86766568e+00  2.62692583e+00  1.03555270e-01 -3.97313527e-01\n",
      "  -7.01593359e-01]\n",
      " [-1.54160230e+00  1.67880731e+00  1.31025741e+00 -5.84953931e-01\n",
      "  -7.10072586e-01  1.73458102e+00  7.11737016e-01  5.16801408e-01\n",
      "   1.39455552e+00]\n",
      " [-1.50695955e+00 -1.75090333e-01  1.50379617e+00  9.85677088e-01\n",
      "   1.05976479e+00 -5.30601951e-01 -2.90940997e-01 -4.62607451e-01\n",
      "  -9.48199109e-01]\n",
      " [-1.47231680e+00 -3.81078959e-01 -4.45139150e-02 -2.87807522e-01\n",
      "  -3.92570677e-01  1.11680385e+00  6.29550293e-01  8.75917990e-01\n",
      "   1.27125264e+00]\n",
      " [-1.43767406e+00  4.42875547e-01  1.11671865e+00 -3.72706496e-01\n",
      "  -5.74898506e-01  1.66593911e+00  1.08979594e+00  1.36562242e+00\n",
      "   1.14794977e+00]\n",
      " [-1.40303131e+00  1.67880731e+00 -1.39928524e+00 -5.42504444e-01\n",
      "  -7.13216169e-01  1.11680385e+00  1.86235113e+00  3.20919636e-01\n",
      "   2.13437277e+00]\n",
      " [-1.36838856e+00  1.47281868e+00  5.36102367e-01  2.64035809e-01\n",
      "   2.99017639e-01 -1.42294676e+00 -9.81309465e-01 -1.31142846e+00\n",
      "  -9.48199109e-01]\n",
      " [-1.33374581e+00  3.08982940e-02 -6.25130197e-01  3.06485296e-01\n",
      "   2.45576724e-01 -3.93318134e-01  3.78058923e-02 -2.99372641e-01\n",
      "  -4.54987609e-01]\n",
      " [-1.29910306e+00 -5.87067586e-01 -6.25130197e-01  1.49507093e+00\n",
      "   1.32068220e+00 -3.93318134e-01  1.96097520e+00  1.52885723e+00\n",
      "   1.64116127e+00]\n",
      " [-1.26446031e+00 -9.99044839e-01  7.29641128e-01  3.06485296e-01\n",
      "   2.51863890e-01 -1.28566294e+00 -4.38877098e-01 -2.66725679e-01\n",
      "  -1.44141061e+00]\n",
      " [-1.22981757e+00 -9.99044839e-01 -1.01220772e+00 -1.18009574e-01\n",
      "  -3.92570677e-01  7.04952398e-01  1.68154034e+00  4.51507484e-01\n",
      "   1.51785839e+00]\n",
      " [-1.19517482e+00  1.06084143e+00  1.49024846e-01  9.33888714e-03\n",
      "  -1.37940433e-01  7.73594306e-01  5.47363571e-01  1.20238761e+00\n",
      "   7.78041142e-01]\n",
      " [-1.16053207e+00 -1.41102209e+00 -4.31591436e-01 -7.55600868e-02\n",
      "  -5.62072686e-02 -2.56034318e-01 -8.99122743e-01 -1.11554669e+00\n",
      "  -7.01593359e-01]\n",
      " [-1.12588932e+00 -3.81078959e-01 -8.18668958e-01  4.76283244e-01\n",
      "   3.02161223e-01  9.79520031e-01  1.23773204e+00  7.45330142e-01\n",
      "   1.14794977e+00]\n",
      " [-1.09124657e+00  6.48864174e-01 -8.18668958e-01  1.41017196e+00\n",
      "   1.75135310e+00 -3.24676226e-01 -3.89565064e-01 -1.14819365e+00\n",
      "  -1.31810773e+00]\n",
      " [-1.05660382e+00  3.08982940e-02 -1.39928524e+00 -4.15155983e-01\n",
      "  -4.30293676e-01 -3.24676226e-01 -7.51186643e-01 -1.36137831e-01\n",
      "  -8.24896234e-01]\n",
      " [-1.02196108e+00 -1.75090333e-01 -8.18668958e-01 -4.57605470e-01\n",
      "  -5.74898506e-01  3.61742857e-01  4.93120334e-03  1.25037864e-01\n",
      "   4.08132516e-01]\n",
      " [-9.87318327e-01  3.08982940e-02  1.11671865e+00 -1.56129213e+00\n",
      "  -1.34821999e+00 -5.01085930e-02 -1.01418415e+00 -3.64666565e-01\n",
      "   5.31435391e-01]\n",
      " [-9.52675579e-01  6.48864174e-01  1.69733493e+00  2.64035809e-01\n",
      "   3.52081325e-03  2.93100948e-01  1.43498017e+00  1.92062077e+00\n",
      "   6.54738267e-01]\n",
      " [-9.18032831e-01  4.42875547e-01 -1.20574648e+00  1.70731837e+00\n",
      "   2.20402909e+00 -5.99243859e-01 -4.06002409e-01 -5.27901375e-01\n",
      "  -1.44141061e+00]\n",
      " [-8.83390082e-01 -1.61701072e+00 -1.01220772e+00  5.61182218e-01\n",
      "   6.35381048e-01  6.36310490e-01  3.17240748e-01  2.22978750e-01\n",
      "  -2.08381859e-01]\n",
      " [-8.48747334e-01  4.42875547e-01  1.69733493e+00  8.15879140e-01\n",
      "   6.60529714e-01  1.11680385e+00  1.66510300e+00  3.61826279e+00\n",
      "   1.14794977e+00]\n",
      " [-8.14104586e-01 -1.41102209e+00  1.11671865e+00  9.33888714e-03\n",
      "  -1.81950599e-01  1.55817132e-01  9.91171872e-01  1.03915280e+00\n",
      "   5.31435391e-01]\n",
      " [-7.79461837e-01 -1.75090333e-01  1.11671865e+00  1.07057606e+00\n",
      "   1.22951828e+00 -5.99243859e-01 -3.23815686e-01 -7.56430109e-01\n",
      "  -9.48199109e-01]\n",
      " [-7.44819089e-01 -3.81078959e-01 -6.25130197e-01  2.21586322e-01\n",
      "   9.15411444e-02  3.61742857e-01  7.11737016e-01 -5.54998353e-03\n",
      "   3.82238913e-02]\n",
      " [-7.10176341e-01 -1.20503347e+00 -4.31591436e-01  7.73429653e-01\n",
      "   7.92560211e-01 -3.24676226e-01 -1.75879586e-01 -6.25842261e-01\n",
      "  -4.54987609e-01]\n",
      " [-6.75533592e-01 -1.20503347e+00  7.29641128e-01  1.19792452e+00\n",
      "   1.21065678e+00  2.24459040e-01  1.02404656e+00  8.10624066e-01\n",
      "  -3.31684734e-01]\n",
      " [-6.40890844e-01  1.26683005e+00  1.50379617e+00 -7.97201366e-01\n",
      "  -8.23241583e-01  5.67668581e-01  4.15864815e-01  1.20238761e+00\n",
      "   1.64116127e+00]\n",
      " [-6.06248096e-01  6.48864174e-01 -4.45139150e-02  6.88530679e-01\n",
      "   6.16519548e-01  1.18544576e+00  3.82990126e-01  1.03915280e+00\n",
      "  -8.50789838e-02]\n",
      " [-5.71605347e-01 -1.20503347e+00  5.36102367e-01  1.32527298e+00\n",
      "   1.44328194e+00 -5.99243859e-01  7.44611705e-01 -2.66725679e-01\n",
      "  -2.08381859e-01]\n",
      " [-5.36962599e-01 -1.75090333e-01  9.23179889e-01  4.33833757e-01\n",
      "   3.27309889e-01  8.71752235e-02  4.81614193e-01  2.22978750e-01\n",
      "   3.82238913e-02]\n",
      " [-5.02319851e-01 -1.41102209e+00 -1.01220772e+00  5.61182218e-01\n",
      "   5.25355634e-01 -4.61960043e-01  1.19992615e-01 -1.03490869e-01\n",
      "  -9.48199109e-01]\n",
      " [-4.67677102e-01  2.36886921e-01 -1.20574648e+00 -1.18009574e-01\n",
      "  -2.19673598e-01 -3.24676226e-01 -2.74503653e-01 -1.36137831e-01\n",
      "  -4.54987609e-01]\n",
      " [-4.33034354e-01  8.54852801e-01 -1.39928524e+00 -5.84953931e-01\n",
      "  -5.62324173e-01 -8.73811492e-01 -1.45799246e+00 -1.50731023e+00\n",
      "  -7.01593359e-01]\n",
      " [-3.98391606e-01 -1.20503347e+00 -6.25130197e-01 -3.31105999e-02\n",
      "  -1.21971030e-02 -5.99243859e-01 -1.24430698e+00 -1.18084061e+00\n",
      "  -1.19480486e+00]\n",
      " [-3.63748857e-01 -1.41102209e+00 -8.18668958e-01 -3.72706496e-01\n",
      "  -4.52298759e-01 -5.01085930e-02 -1.15061411e-02 -6.91136185e-01\n",
      "  -8.50789838e-02]\n",
      " [-3.29106109e-01  1.47281868e+00 -4.31591436e-01 -4.57605470e-01\n",
      "  -4.39724426e-01 -1.42294676e+00 -1.09637088e+00 -4.95254413e-01\n",
      "  -1.07150198e+00]\n",
      " [-2.94463361e-01  4.42875547e-01  1.69733493e+00 -1.05189829e+00\n",
      "  -1.04329241e+00  1.39137148e+00 -7.72555190e-02 -1.03490869e-01\n",
      "   5.31435391e-01]\n",
      " [-2.59820612e-01 -1.20503347e+00 -1.39928524e+00  1.32527298e+00\n",
      "   1.26095412e+00 -8.05169584e-01  1.51716690e+00  1.23503457e+00\n",
      "  -2.08381859e-01]\n",
      " [-2.25177864e-01 -3.81078959e-01  5.36102367e-01 -4.15155983e-01\n",
      "  -4.96308924e-01  8.71752235e-02  2.84366059e-01  1.25037864e-01\n",
      "   4.08132516e-01]\n",
      " [-1.90535116e-01 -1.41102209e+00 -6.25130197e-01 -5.00054957e-01\n",
      "  -5.37175507e-01 -3.93318134e-01 -3.56690375e-01 -5.93195299e-01\n",
      "  -3.31684734e-01]\n",
      " [-1.55892367e-01  2.36886921e-01 -1.39928524e+00  1.15547504e+00\n",
      "   1.17293378e+00  4.99026673e-01  6.95299671e-01 -7.08439075e-02\n",
      "  -5.78290484e-01]\n",
      " [-1.21249619e-01  1.06084143e+00 -1.20574648e+00 -1.90088803e+00\n",
      "  -1.57455798e+00 -1.14837913e+00 -1.11280822e+00 -5.27901375e-01\n",
      "   3.82238913e-02]\n",
      " [-8.66068708e-02  6.48864174e-01 -8.18668958e-01 -4.57605470e-01\n",
      "  -5.27744757e-01  9.10878123e-01 -6.08181746e-02  6.47389256e-01\n",
      "   4.08132516e-01]\n",
      " [-5.19641225e-02  6.48864174e-01  5.36102367e-01 -7.97201366e-01\n",
      "  -7.98092917e-01  1.85333152e-02 -5.86813198e-01 -8.21724033e-01\n",
      "  -5.78290484e-01]\n",
      " [-1.73213742e-02  1.67880731e+00 -1.39928524e+00 -4.15155983e-01\n",
      "  -4.46011592e-01 -1.01109531e+00 -8.16936020e-01 -3.97313527e-01\n",
      "  -9.48199109e-01]\n",
      " [ 1.73213742e-02  4.42875547e-01  1.31025741e+00 -9.24549827e-01\n",
      "  -8.64108165e-01 -1.14837913e+00 -1.26074432e+00 -1.40936935e+00\n",
      "  -7.01593359e-01]\n",
      " [ 5.19641225e-02  4.42875547e-01  7.29641128e-01 -4.15155983e-01\n",
      "  -4.11432177e-01 -1.76615630e+00 -1.07993353e+00 -1.89907378e+00\n",
      "  -5.78290484e-01]\n",
      " [ 8.66068708e-02  1.67880731e+00 -6.25130197e-01 -8.82100340e-01\n",
      "  -8.32672333e-01 -1.35430485e+00 -1.29361901e+00 -2.01431755e-01\n",
      "  -4.54987609e-01]\n",
      " [ 1.21249619e-01 -5.87067586e-01  1.50379617e+00  9.85677088e-01\n",
      "   1.03775970e+00  8.42236215e-01  3.66552782e-01  5.16801408e-01\n",
      "  -2.08381859e-01]\n",
      " [ 1.55892367e-01  2.36886921e-01  1.31025741e+00  9.33888714e-03\n",
      "   3.18130626e-02 -8.05169584e-01 -9.15560087e-01 -1.01760580e+00\n",
      "  -9.48199109e-01]\n",
      " [ 1.90535116e-01  2.36886921e-01 -1.01220772e+00 -1.00944880e+00\n",
      "  -9.23836247e-01 -5.30601951e-01 -1.17855760e+00 -3.81969455e-02\n",
      "  -7.01593359e-01]\n",
      " [ 2.25177864e-01 -1.41102209e+00  1.49024846e-01  1.24037401e+00\n",
      "   1.41184611e+00  1.55817132e-01  4.93120334e-03 -3.81969455e-02\n",
      "  -5.78290484e-01]\n",
      " [ 2.59820612e-01  3.08982940e-02  3.42563607e-01 -3.31105999e-02\n",
      "  -1.44227600e-01  7.73594306e-01  1.69304648e-01  3.20919636e-01\n",
      "   4.08132516e-01]\n",
      " [ 2.94463361e-01  1.06084143e+00 -6.25130197e-01 -5.84953931e-01\n",
      "  -5.52893423e-01 -1.49158867e+00 -1.45799246e+00 -3.64666565e-01\n",
      "  -1.19480486e+00]\n",
      " [ 3.29106109e-01  1.26683005e+00  1.50379617e+00 -1.81598905e+00\n",
      "  -1.50225557e+00 -3.24676226e-01 -1.21143229e+00 -8.21724033e-01\n",
      "   9.01344017e-01]\n",
      " [ 3.63748857e-01 -3.81078959e-01 -4.45139150e-02 -1.34904470e+00\n",
      "  -1.22876382e+00  7.04952398e-01 -7.51186643e-01  2.63885394e+00\n",
      "   6.54738267e-01]\n",
      " [ 3.98391606e-01  1.67880731e+00 -6.25130197e-01 -1.77353957e+00\n",
      "  -1.51168632e+00  1.46001339e+00 -6.03250542e-01 -3.32019603e-01\n",
      "   4.08132516e-01]\n",
      " [ 4.33034354e-01 -9.99044839e-01  7.29641128e-01 -3.31105999e-02\n",
      "  -1.78807016e-01  1.55817132e-01  1.22129469e+00  5.97439404e-02\n",
      "   1.02464689e+00]\n",
      " [ 4.67677102e-01  1.47281868e+00 -2.38052676e-01 -1.60374162e+00\n",
      "  -1.38908657e+00 -1.76615630e+00 -6.36125231e-01  1.33297546e+00\n",
      "   6.54738267e-01]\n",
      " [ 5.02319851e-01 -1.75090333e-01  1.49024846e-01 -5.84953931e-01\n",
      "  -6.40913754e-01  6.36310490e-01 -1.15061411e-02 -7.08439075e-02\n",
      "   1.61526766e-01]\n",
      " [ 5.36962599e-01 -1.20503347e+00  5.36102367e-01  9.33888714e-03\n",
      "  -1.09648184e-01  9.79520031e-01  3.50115437e-01  5.97439404e-02\n",
      "   2.84829641e-01]\n",
      " [ 5.71605347e-01 -9.99044839e-01 -1.01220772e+00 -1.56129213e+00\n",
      "  -1.36393790e+00  8.71752235e-02 -8.00498676e-01 -6.91136185e-01\n",
      "   5.31435391e-01]\n",
      " [ 6.06248096e-01  2.36886921e-01 -1.20574648e+00 -1.05189829e+00\n",
      "  -9.70989996e-01 -1.49158867e+00 -1.31005635e+00 -1.34407542e+00\n",
      "  -9.48199109e-01]\n",
      " [ 6.40890844e-01 -1.75090333e-01 -2.38052676e-01 -1.60374162e+00\n",
      "  -1.42052240e+00  2.93100948e-01  2.35054026e-01  5.82095332e-01\n",
      "   1.88776702e+00]\n",
      " [ 6.75533592e-01  3.08982940e-02  5.36102367e-01 -6.69852905e-01\n",
      "  -6.28339421e-01 -3.24676226e-01 -1.22786963e+00 -1.11554669e+00\n",
      "  -9.48199109e-01]\n",
      " [ 7.10176341e-01  8.54852801e-01 -4.45139150e-02  1.15547504e+00\n",
      "   1.34268728e+00 -8.73811492e-01 -3.89565064e-01 -1.14819365e+00\n",
      "  -1.19480486e+00]\n",
      " [ 7.44819089e-01 -1.61701072e+00  1.50379617e+00 -1.60374162e+00\n",
      "  -1.44252748e+00 -3.24676226e-01  4.32302160e-01 -1.03490869e-01\n",
      "   3.12079577e+00]\n",
      " [ 7.79461837e-01  8.54852801e-01 -1.20574648e+00  7.30980166e-01\n",
      "   7.10827046e-01  2.93100948e-01  9.25422494e-01 -5.54998353e-03\n",
      "   3.82238913e-02]\n",
      " [ 8.14104586e-01  1.06084143e+00  1.31025741e+00 -2.87807522e-01\n",
      "  -3.73709177e-01 -1.18750501e-01  2.13685478e-02 -8.87017957e-01\n",
      "   1.61526766e-01]\n",
      " [ 8.48747334e-01  2.36886921e-01 -1.01220772e+00 -7.54751879e-01\n",
      "  -7.28934085e-01 -7.36527676e-01 -9.64872121e-01 -6.91136185e-01\n",
      "  -7.01593359e-01]\n",
      " [ 8.83390082e-01  8.54852801e-01 -4.45139150e-02  3.06485296e-01\n",
      "   3.61889304e-01 -7.36527676e-01 -7.01874609e-01 -4.29960489e-01\n",
      "  -1.31810773e+00]\n",
      " [ 9.18032831e-01 -1.41102209e+00 -2.38052676e-01 -3.72706496e-01\n",
      "  -4.52298759e-01  1.80322293e+00 -3.56690375e-01  1.52885723e+00\n",
      "   1.61526766e-01]\n",
      " [ 9.52675579e-01 -1.20503347e+00  5.36102367e-01  9.85677088e-01\n",
      "   9.52882957e-01  2.93100948e-01  1.45141752e+00  7.12683180e-01\n",
      "   2.84829641e-01]\n",
      " [ 9.87318327e-01 -1.75090333e-01 -4.45139150e-02  2.00446478e+00\n",
      "   1.70419935e+00  1.80322293e+00  3.58827230e+00  3.19385229e+00\n",
      "   2.01106989e+00]\n",
      " [ 1.02196108e+00  1.06084143e+00 -4.31591436e-01 -5.84953931e-01\n",
      "  -6.18908671e-01 -2.56034318e-01 -5.21063820e-01 -6.91136185e-01\n",
      "  -5.78290484e-01]\n",
      " [ 1.05660382e+00 -1.41102209e+00 -4.45139150e-02 -9.66999314e-01\n",
      "  -9.45841330e-01  4.99026673e-01 -5.37501164e-01 -2.99372641e-01\n",
      "   6.54738267e-01]\n",
      " [ 1.09124657e+00  3.08982940e-02  5.36102367e-01 -4.57605470e-01\n",
      "  -5.74898506e-01  3.61742857e-01  4.48739504e-01  2.70969784e-02\n",
      "   5.31435391e-01]\n",
      " [ 1.12588932e+00 -1.41102209e+00 -6.25130197e-01  3.19305041e+00\n",
      "   3.69408756e+00  2.24459040e-01  2.30615943e+00 -3.32019603e-01\n",
      "   4.08132516e-01]\n",
      " [ 1.16053207e+00  6.48864174e-01 -8.18668958e-01  1.36772247e+00\n",
      "   1.34897445e+00  1.32272957e+00  8.59673116e-01 -9.84958843e-01\n",
      "   9.01344017e-01]\n",
      " [ 1.19517482e+00  1.67880731e+00  5.36102367e-01 -8.39650853e-01\n",
      "  -8.16954417e-01 -3.93318134e-01 -8.99122743e-01  4.84154446e-01\n",
      "  -5.78290484e-01]\n",
      " [ 1.22981757e+00 -5.87067586e-01 -1.01220772e+00  1.02812657e+00\n",
      "   1.16979020e+00 -2.56034318e-01 -3.56690375e-01  6.47389256e-01\n",
      "  -5.78290484e-01]\n",
      " [ 1.26446031e+00  4.42875547e-01  1.50379617e+00 -1.18009574e-01\n",
      "  -1.72519849e-01 -5.99243859e-01 -4.55314442e-01  4.84154446e-01\n",
      "  -1.07150198e+00]\n",
      " [ 1.29910306e+00  4.42875547e-01 -1.39928524e+00  1.07057606e+00\n",
      "   1.17293378e+00 -8.73811492e-01 -9.36928635e-02  5.97439404e-02\n",
      "  -1.07150198e+00]\n",
      " [ 1.33374581e+00 -1.20503347e+00 -1.39928524e+00 -7.12302392e-01\n",
      "  -7.44652002e-01 -1.01109531e+00 -5.37501164e-01 -5.54998353e-03\n",
      "  -8.50789838e-02]\n",
      " [ 1.36838856e+00 -9.99044839e-01  9.23179889e-01 -3.31105999e-02\n",
      "  -1.59945516e-01  7.04952398e-01  1.19992615e-01  6.14742294e-01\n",
      "  -2.08381859e-01]\n",
      " [ 1.40303131e+00  1.26683005e+00  1.69733493e+00 -7.55600868e-02\n",
      "  -1.25366100e-01 -8.73811492e-01 -6.68999920e-01 -7.89077071e-01\n",
      "  -7.01593359e-01]\n",
      " [ 1.43767406e+00 -1.41102209e+00 -1.20574648e+00  1.36687348e-01\n",
      "   7.89668114e-02 -7.36527676e-01 -3.73127720e-01 -6.91136185e-01\n",
      "  -4.54987609e-01]\n",
      " [ 1.47231680e+00 -5.87067586e-01 -8.18668958e-01 -5.00054957e-01\n",
      "  -4.74303842e-01 -1.97208202e+00 -1.24430698e+00 -1.76848593e+00\n",
      "  -1.44141061e+00]\n",
      " [ 1.50695955e+00 -1.41102209e+00 -2.38052676e-01 -4.15155983e-01\n",
      "  -4.64873092e-01 -5.01085930e-02 -7.34749298e-01 -9.52311881e-01\n",
      "  -9.48199109e-01]\n",
      " [ 1.54160230e+00  1.06084143e+00  1.50379617e+00  1.36687348e-01\n",
      "   9.80797976e-03  8.71752235e-02  4.65176849e-01 -2.34078717e-01\n",
      "  -2.08381859e-01]\n",
      " [ 1.57624505e+00  1.26683005e+00 -4.31591436e-01  1.49507093e+00\n",
      "   1.76392744e+00 -8.05169584e-01  7.06805813e-02  5.49448370e-01\n",
      "  -1.07150198e+00]\n",
      " [ 1.61088780e+00  1.06084143e+00 -8.18668958e-01 -7.97201366e-01\n",
      "  -7.91805751e-01  1.55817132e-01 -9.15560087e-01 -1.03490869e-01\n",
      "   1.61526766e-01]\n",
      " [ 1.64553055e+00  4.42875547e-01  1.69733493e+00 -1.47639316e+00\n",
      "  -1.28220474e+00 -5.01085930e-02 -1.21143229e+00 -1.89907378e+00\n",
      "   5.31435391e-01]\n",
      " [ 1.68017329e+00  8.54852801e-01  1.11671865e+00 -9.66999314e-01\n",
      "  -9.11261914e-01 -8.73811492e-01 -8.49810709e-01 -1.01760580e+00\n",
      "   1.61526766e-01]\n",
      " [ 1.71481604e+00 -1.75090333e-01  1.69733493e+00 -1.18009574e-01\n",
      "  -1.88237765e-01 -3.24676226e-01 -2.08754275e-01 -1.68784793e-01\n",
      "  -8.50789838e-02]]\n"
     ]
    }
   ],
   "source": [
    "print(standardized_data)"
   ]
  },
  {
   "cell_type": "code",
   "execution_count": 16,
   "id": "2431ab65-6576-44b1-89b5-1ab6f342b276",
   "metadata": {},
   "outputs": [],
   "source": [
    "X=standardized_data\n"
   ]
  },
  {
   "cell_type": "code",
   "execution_count": 24,
   "id": "17d15992-2802-4d45-bc25-e7114f154bf0",
   "metadata": {},
   "outputs": [],
   "source": [
    "X_train,X_test,Y_train,Y_test=tts(X,Y,test_size=0.2,stratify=Y,random_state=2)"
   ]
  },
  {
   "cell_type": "code",
   "execution_count": 25,
   "id": "c547fffb-b0f1-4bd3-8df5-f0349d4ca164",
   "metadata": {},
   "outputs": [
    {
     "name": "stdout",
     "output_type": "stream",
     "text": [
      "(100, 9) (80, 9) (20, 9)\n"
     ]
    }
   ],
   "source": [
    "print(X.shape , X_train.shape , X_test.shape)"
   ]
  },
  {
   "cell_type": "code",
   "execution_count": 26,
   "id": "22631454-1ef7-4244-ac24-15e680ee27df",
   "metadata": {},
   "outputs": [],
   "source": [
    "classifier=svm.SVC(kernel='linear')"
   ]
  },
  {
   "cell_type": "code",
   "execution_count": 27,
   "id": "2b5c01cd-374b-4f12-97b6-87adbf1f266b",
   "metadata": {},
   "outputs": [
    {
     "data": {
      "text/html": [
       "<style>#sk-container-id-1 {color: black;background-color: white;}#sk-container-id-1 pre{padding: 0;}#sk-container-id-1 div.sk-toggleable {background-color: white;}#sk-container-id-1 label.sk-toggleable__label {cursor: pointer;display: block;width: 100%;margin-bottom: 0;padding: 0.3em;box-sizing: border-box;text-align: center;}#sk-container-id-1 label.sk-toggleable__label-arrow:before {content: \"▸\";float: left;margin-right: 0.25em;color: #696969;}#sk-container-id-1 label.sk-toggleable__label-arrow:hover:before {color: black;}#sk-container-id-1 div.sk-estimator:hover label.sk-toggleable__label-arrow:before {color: black;}#sk-container-id-1 div.sk-toggleable__content {max-height: 0;max-width: 0;overflow: hidden;text-align: left;background-color: #f0f8ff;}#sk-container-id-1 div.sk-toggleable__content pre {margin: 0.2em;color: black;border-radius: 0.25em;background-color: #f0f8ff;}#sk-container-id-1 input.sk-toggleable__control:checked~div.sk-toggleable__content {max-height: 200px;max-width: 100%;overflow: auto;}#sk-container-id-1 input.sk-toggleable__control:checked~label.sk-toggleable__label-arrow:before {content: \"▾\";}#sk-container-id-1 div.sk-estimator input.sk-toggleable__control:checked~label.sk-toggleable__label {background-color: #d4ebff;}#sk-container-id-1 div.sk-label input.sk-toggleable__control:checked~label.sk-toggleable__label {background-color: #d4ebff;}#sk-container-id-1 input.sk-hidden--visually {border: 0;clip: rect(1px 1px 1px 1px);clip: rect(1px, 1px, 1px, 1px);height: 1px;margin: -1px;overflow: hidden;padding: 0;position: absolute;width: 1px;}#sk-container-id-1 div.sk-estimator {font-family: monospace;background-color: #f0f8ff;border: 1px dotted black;border-radius: 0.25em;box-sizing: border-box;margin-bottom: 0.5em;}#sk-container-id-1 div.sk-estimator:hover {background-color: #d4ebff;}#sk-container-id-1 div.sk-parallel-item::after {content: \"\";width: 100%;border-bottom: 1px solid gray;flex-grow: 1;}#sk-container-id-1 div.sk-label:hover label.sk-toggleable__label {background-color: #d4ebff;}#sk-container-id-1 div.sk-serial::before {content: \"\";position: absolute;border-left: 1px solid gray;box-sizing: border-box;top: 0;bottom: 0;left: 50%;z-index: 0;}#sk-container-id-1 div.sk-serial {display: flex;flex-direction: column;align-items: center;background-color: white;padding-right: 0.2em;padding-left: 0.2em;position: relative;}#sk-container-id-1 div.sk-item {position: relative;z-index: 1;}#sk-container-id-1 div.sk-parallel {display: flex;align-items: stretch;justify-content: center;background-color: white;position: relative;}#sk-container-id-1 div.sk-item::before, #sk-container-id-1 div.sk-parallel-item::before {content: \"\";position: absolute;border-left: 1px solid gray;box-sizing: border-box;top: 0;bottom: 0;left: 50%;z-index: -1;}#sk-container-id-1 div.sk-parallel-item {display: flex;flex-direction: column;z-index: 1;position: relative;background-color: white;}#sk-container-id-1 div.sk-parallel-item:first-child::after {align-self: flex-end;width: 50%;}#sk-container-id-1 div.sk-parallel-item:last-child::after {align-self: flex-start;width: 50%;}#sk-container-id-1 div.sk-parallel-item:only-child::after {width: 0;}#sk-container-id-1 div.sk-dashed-wrapped {border: 1px dashed gray;margin: 0 0.4em 0.5em 0.4em;box-sizing: border-box;padding-bottom: 0.4em;background-color: white;}#sk-container-id-1 div.sk-label label {font-family: monospace;font-weight: bold;display: inline-block;line-height: 1.2em;}#sk-container-id-1 div.sk-label-container {text-align: center;}#sk-container-id-1 div.sk-container {/* jupyter's `normalize.less` sets `[hidden] { display: none; }` but bootstrap.min.css set `[hidden] { display: none !important; }` so we also need the `!important` here to be able to override the default hidden behavior on the sphinx rendered scikit-learn.org. See: https://github.com/scikit-learn/scikit-learn/issues/21755 */display: inline-block !important;position: relative;}#sk-container-id-1 div.sk-text-repr-fallback {display: none;}</style><div id=\"sk-container-id-1\" class=\"sk-top-container\"><div class=\"sk-text-repr-fallback\"><pre>SVC(kernel=&#x27;linear&#x27;)</pre><b>In a Jupyter environment, please rerun this cell to show the HTML representation or trust the notebook. <br />On GitHub, the HTML representation is unable to render, please try loading this page with nbviewer.org.</b></div><div class=\"sk-container\" hidden><div class=\"sk-item\"><div class=\"sk-estimator sk-toggleable\"><input class=\"sk-toggleable__control sk-hidden--visually\" id=\"sk-estimator-id-1\" type=\"checkbox\" checked><label for=\"sk-estimator-id-1\" class=\"sk-toggleable__label sk-toggleable__label-arrow\">SVC</label><div class=\"sk-toggleable__content\"><pre>SVC(kernel=&#x27;linear&#x27;)</pre></div></div></div></div></div>"
      ],
      "text/plain": [
       "SVC(kernel='linear')"
      ]
     },
     "execution_count": 27,
     "metadata": {},
     "output_type": "execute_result"
    }
   ],
   "source": [
    "classifier.fit(X_train,Y_train)"
   ]
  },
  {
   "cell_type": "code",
   "execution_count": 28,
   "id": "aad0f6dc-b124-460d-9bae-679cedfbb4ec",
   "metadata": {},
   "outputs": [
    {
     "name": "stdout",
     "output_type": "stream",
     "text": [
      "0.875\n"
     ]
    }
   ],
   "source": [
    "X_train_prediction=classifier.predict(X_train)\n",
    "train_accuracy=accuracy_score(X_train_prediction , Y_train)\n",
    "print(train_accuracy)\n"
   ]
  },
  {
   "cell_type": "code",
   "execution_count": 29,
   "id": "992eb187-e9ca-4340-a872-884a415a6d5b",
   "metadata": {},
   "outputs": [
    {
     "name": "stdout",
     "output_type": "stream",
     "text": [
      "0.85\n"
     ]
    }
   ],
   "source": [
    "X_test_prediction=classifier.predict(X_test)\n",
    "test_accuracy=accuracy_score(X_test_prediction , Y_test)\n",
    "print(test_accuracy)"
   ]
  },
  {
   "cell_type": "code",
   "execution_count": 30,
   "id": "13ab537d-1c92-467e-9fc4-827117684791",
   "metadata": {},
   "outputs": [
    {
     "name": "stdout",
     "output_type": "stream",
     "text": [
      "[[-1.16053207 -1.41102209 -0.43159144 -0.07556009 -0.05620727 -0.25603432\n",
      "  -0.89912274 -1.11554669 -0.70159336]]\n"
     ]
    },
    {
     "name": "stderr",
     "output_type": "stream",
     "text": [
      "/opt/anaconda3/lib/python3.11/site-packages/sklearn/base.py:439: UserWarning: X does not have valid feature names, but StandardScaler was fitted with feature names\n",
      "  warnings.warn(\n"
     ]
    }
   ],
   "source": [
    "input_data=(17,10,16,95,685,0.099,0.072,0.159,0.059)\n",
    "input_data_as_numpyarray=np.asarray(input_data)\n",
    "reshape_data=input_data_as_numpyarray.reshape(1,-1)\n",
    "std_data=scaler.transform(reshape_data)\n",
    "print(std_data)"
   ]
  },
  {
   "cell_type": "code",
   "execution_count": 31,
   "id": "56042d85-2211-44b2-a996-fe771fbf3018",
   "metadata": {},
   "outputs": [
    {
     "name": "stdout",
     "output_type": "stream",
     "text": [
      "['M']\n"
     ]
    }
   ],
   "source": [
    "prediction=classifier.predict(std_data)\n",
    "print (prediction)"
   ]
  },
  {
   "cell_type": "code",
   "execution_count": 32,
   "id": "80ad5395-1299-4ab5-ab86-d9018ba1fb0e",
   "metadata": {},
   "outputs": [
    {
     "name": "stdout",
     "output_type": "stream",
     "text": [
      "the person has prostate cancer\n"
     ]
    }
   ],
   "source": [
    "if (prediction[0]=='M'):\n",
    "    print(\"the person has prostate cancer\")\n",
    "else:\n",
    "    print(\"the person does not have prostate cancer\")"
   ]
  },
  {
   "cell_type": "code",
   "execution_count": null,
   "id": "1be6d6ac-956c-4eec-8bda-91d315fc62f6",
   "metadata": {},
   "outputs": [],
   "source": []
  }
 ],
 "metadata": {
  "kernelspec": {
   "display_name": "Python 3 (ipykernel)",
   "language": "python",
   "name": "python3"
  },
  "language_info": {
   "codemirror_mode": {
    "name": "ipython",
    "version": 3
   },
   "file_extension": ".py",
   "mimetype": "text/x-python",
   "name": "python",
   "nbconvert_exporter": "python",
   "pygments_lexer": "ipython3",
   "version": "3.11.7"
  }
 },
 "nbformat": 4,
 "nbformat_minor": 5
}
